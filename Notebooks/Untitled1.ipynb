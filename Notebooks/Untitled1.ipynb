{
 "cells": [
  {
   "cell_type": "code",
   "execution_count": 1,
   "id": "bafdb953",
   "metadata": {},
   "outputs": [],
   "source": [
    "import pandas as pd\n",
    "import numpy as np\n",
    "from sklearn import pipeline,preprocessing,metrics,model_selection,ensemble\n",
    "from sklearn_pandas import DataFrameMapper"
   ]
  },
  {
   "cell_type": "code",
   "execution_count": 2,
   "id": "9ec428be",
   "metadata": {},
   "outputs": [],
   "source": [
    "data=pd.read_csv('./../media/excel/datafinal1.csv')"
   ]
  },
  {
   "cell_type": "code",
   "execution_count": 3,
   "id": "f6f713ff",
   "metadata": {},
   "outputs": [
    {
     "data": {
      "text/html": [
       "<div>\n",
       "<style scoped>\n",
       "    .dataframe tbody tr th:only-of-type {\n",
       "        vertical-align: middle;\n",
       "    }\n",
       "\n",
       "    .dataframe tbody tr th {\n",
       "        vertical-align: top;\n",
       "    }\n",
       "\n",
       "    .dataframe thead th {\n",
       "        text-align: right;\n",
       "    }\n",
       "</style>\n",
       "<table border=\"1\" class=\"dataframe\">\n",
       "  <thead>\n",
       "    <tr style=\"text-align: right;\">\n",
       "      <th></th>\n",
       "      <th>Target</th>\n",
       "      <th>e-learning process</th>\n",
       "      <th>UEY</th>\n",
       "      <th>Major</th>\n",
       "      <th>Interested</th>\n",
       "      <th>Courses</th>\n",
       "    </tr>\n",
       "  </thead>\n",
       "  <tbody>\n",
       "    <tr>\n",
       "      <th>0</th>\n",
       "      <td>100</td>\n",
       "      <td>1</td>\n",
       "      <td>2018</td>\n",
       "      <td>5</td>\n",
       "      <td>12</td>\n",
       "      <td>25</td>\n",
       "    </tr>\n",
       "    <tr>\n",
       "      <th>1</th>\n",
       "      <td>100</td>\n",
       "      <td>1</td>\n",
       "      <td>2018</td>\n",
       "      <td>5</td>\n",
       "      <td>12</td>\n",
       "      <td>21</td>\n",
       "    </tr>\n",
       "    <tr>\n",
       "      <th>2</th>\n",
       "      <td>200</td>\n",
       "      <td>1</td>\n",
       "      <td>2018</td>\n",
       "      <td>5</td>\n",
       "      <td>12</td>\n",
       "      <td>26</td>\n",
       "    </tr>\n",
       "    <tr>\n",
       "      <th>3</th>\n",
       "      <td>400</td>\n",
       "      <td>1</td>\n",
       "      <td>2018</td>\n",
       "      <td>2</td>\n",
       "      <td>12</td>\n",
       "      <td>28</td>\n",
       "    </tr>\n",
       "    <tr>\n",
       "      <th>4</th>\n",
       "      <td>400</td>\n",
       "      <td>1</td>\n",
       "      <td>2018</td>\n",
       "      <td>2</td>\n",
       "      <td>12</td>\n",
       "      <td>28</td>\n",
       "    </tr>\n",
       "  </tbody>\n",
       "</table>\n",
       "</div>"
      ],
      "text/plain": [
       "   Target  e-learning process   UEY  Major  Interested  Courses\n",
       "0     100                   1  2018      5          12       25\n",
       "1     100                   1  2018      5          12       21\n",
       "2     200                   1  2018      5          12       26\n",
       "3     400                   1  2018      2          12       28\n",
       "4     400                   1  2018      2          12       28"
      ]
     },
     "execution_count": 3,
     "metadata": {},
     "output_type": "execute_result"
    }
   ],
   "source": [
    "data.head()"
   ]
  },
  {
   "cell_type": "code",
   "execution_count": 4,
   "id": "787ed8c4",
   "metadata": {},
   "outputs": [
    {
     "data": {
      "text/plain": [
       "Target                0\n",
       "e-learning process    0\n",
       "UEY                   0\n",
       "Major                 0\n",
       "Interested            0\n",
       "Courses               0\n",
       "dtype: int64"
      ]
     },
     "execution_count": 4,
     "metadata": {},
     "output_type": "execute_result"
    }
   ],
   "source": [
    "data.isnull().sum()"
   ]
  },
  {
   "cell_type": "code",
   "execution_count": 5,
   "id": "9acec138",
   "metadata": {},
   "outputs": [],
   "source": [
    "mapper = DataFrameMapper([\n",
    "                        (['UEY','Major','Interested','Courses'], preprocessing.OrdinalEncoder()),\n",
    "                        (['e-learning process'], preprocessing.OneHotEncoder())\n",
    "                        ])"
   ]
  },
  {
   "cell_type": "code",
   "execution_count": 6,
   "id": "09937dc2",
   "metadata": {},
   "outputs": [],
   "source": [
    "from sklearn.ensemble import RandomForestClassifier\n",
    "pipeline_obj = pipeline.Pipeline([\n",
    "    ('mapper',mapper),\n",
    "    (\"model\", ensemble.RandomForestClassifier())\n",
    "])"
   ]
  },
  {
   "cell_type": "code",
   "execution_count": 7,
   "id": "7c36d4d5",
   "metadata": {},
   "outputs": [
    {
     "data": {
      "text/plain": [
       "Index(['Target', 'e-learning process', 'UEY', 'Major', 'Interested',\n",
       "       'Courses'],\n",
       "      dtype='object')"
      ]
     },
     "execution_count": 7,
     "metadata": {},
     "output_type": "execute_result"
    }
   ],
   "source": [
    "data.columns"
   ]
  },
  {
   "cell_type": "code",
   "execution_count": 8,
   "id": "ac280d9b",
   "metadata": {},
   "outputs": [],
   "source": [
    "attribute_cols =['e-learning process','UEY','Major','Interested','Courses']"
   ]
  },
  {
   "cell_type": "code",
   "execution_count": 9,
   "id": "eccee69e",
   "metadata": {},
   "outputs": [],
   "source": [
    "X=data[attribute_cols]\n",
    "y=data.Target"
   ]
  },
  {
   "cell_type": "code",
   "execution_count": 10,
   "id": "a543e302",
   "metadata": {},
   "outputs": [],
   "source": [
    "from sklearn.model_selection import train_test_split\n",
    "X_train, X_test, y_train, y_test = train_test_split(X, y, test_size = 0.3)"
   ]
  },
  {
   "cell_type": "code",
   "execution_count": 11,
   "id": "2130d77f",
   "metadata": {
    "scrolled": true
   },
   "outputs": [
    {
     "data": {
      "text/html": [
       "<style>#sk-container-id-1 {color: black;background-color: white;}#sk-container-id-1 pre{padding: 0;}#sk-container-id-1 div.sk-toggleable {background-color: white;}#sk-container-id-1 label.sk-toggleable__label {cursor: pointer;display: block;width: 100%;margin-bottom: 0;padding: 0.3em;box-sizing: border-box;text-align: center;}#sk-container-id-1 label.sk-toggleable__label-arrow:before {content: \"▸\";float: left;margin-right: 0.25em;color: #696969;}#sk-container-id-1 label.sk-toggleable__label-arrow:hover:before {color: black;}#sk-container-id-1 div.sk-estimator:hover label.sk-toggleable__label-arrow:before {color: black;}#sk-container-id-1 div.sk-toggleable__content {max-height: 0;max-width: 0;overflow: hidden;text-align: left;background-color: #f0f8ff;}#sk-container-id-1 div.sk-toggleable__content pre {margin: 0.2em;color: black;border-radius: 0.25em;background-color: #f0f8ff;}#sk-container-id-1 input.sk-toggleable__control:checked~div.sk-toggleable__content {max-height: 200px;max-width: 100%;overflow: auto;}#sk-container-id-1 input.sk-toggleable__control:checked~label.sk-toggleable__label-arrow:before {content: \"▾\";}#sk-container-id-1 div.sk-estimator input.sk-toggleable__control:checked~label.sk-toggleable__label {background-color: #d4ebff;}#sk-container-id-1 div.sk-label input.sk-toggleable__control:checked~label.sk-toggleable__label {background-color: #d4ebff;}#sk-container-id-1 input.sk-hidden--visually {border: 0;clip: rect(1px 1px 1px 1px);clip: rect(1px, 1px, 1px, 1px);height: 1px;margin: -1px;overflow: hidden;padding: 0;position: absolute;width: 1px;}#sk-container-id-1 div.sk-estimator {font-family: monospace;background-color: #f0f8ff;border: 1px dotted black;border-radius: 0.25em;box-sizing: border-box;margin-bottom: 0.5em;}#sk-container-id-1 div.sk-estimator:hover {background-color: #d4ebff;}#sk-container-id-1 div.sk-parallel-item::after {content: \"\";width: 100%;border-bottom: 1px solid gray;flex-grow: 1;}#sk-container-id-1 div.sk-label:hover label.sk-toggleable__label {background-color: #d4ebff;}#sk-container-id-1 div.sk-serial::before {content: \"\";position: absolute;border-left: 1px solid gray;box-sizing: border-box;top: 0;bottom: 0;left: 50%;z-index: 0;}#sk-container-id-1 div.sk-serial {display: flex;flex-direction: column;align-items: center;background-color: white;padding-right: 0.2em;padding-left: 0.2em;position: relative;}#sk-container-id-1 div.sk-item {position: relative;z-index: 1;}#sk-container-id-1 div.sk-parallel {display: flex;align-items: stretch;justify-content: center;background-color: white;position: relative;}#sk-container-id-1 div.sk-item::before, #sk-container-id-1 div.sk-parallel-item::before {content: \"\";position: absolute;border-left: 1px solid gray;box-sizing: border-box;top: 0;bottom: 0;left: 50%;z-index: -1;}#sk-container-id-1 div.sk-parallel-item {display: flex;flex-direction: column;z-index: 1;position: relative;background-color: white;}#sk-container-id-1 div.sk-parallel-item:first-child::after {align-self: flex-end;width: 50%;}#sk-container-id-1 div.sk-parallel-item:last-child::after {align-self: flex-start;width: 50%;}#sk-container-id-1 div.sk-parallel-item:only-child::after {width: 0;}#sk-container-id-1 div.sk-dashed-wrapped {border: 1px dashed gray;margin: 0 0.4em 0.5em 0.4em;box-sizing: border-box;padding-bottom: 0.4em;background-color: white;}#sk-container-id-1 div.sk-label label {font-family: monospace;font-weight: bold;display: inline-block;line-height: 1.2em;}#sk-container-id-1 div.sk-label-container {text-align: center;}#sk-container-id-1 div.sk-container {/* jupyter's `normalize.less` sets `[hidden] { display: none; }` but bootstrap.min.css set `[hidden] { display: none !important; }` so we also need the `!important` here to be able to override the default hidden behavior on the sphinx rendered scikit-learn.org. See: https://github.com/scikit-learn/scikit-learn/issues/21755 */display: inline-block !important;position: relative;}#sk-container-id-1 div.sk-text-repr-fallback {display: none;}</style><div id=\"sk-container-id-1\" class=\"sk-top-container\"><div class=\"sk-text-repr-fallback\"><pre>Pipeline(steps=[(&#x27;mapper&#x27;,\n",
       "                 DataFrameMapper(drop_cols=[],\n",
       "                                 features=[([&#x27;UEY&#x27;, &#x27;Major&#x27;, &#x27;Interested&#x27;,\n",
       "                                             &#x27;Courses&#x27;],\n",
       "                                            OrdinalEncoder()),\n",
       "                                           ([&#x27;e-learning process&#x27;],\n",
       "                                            OneHotEncoder())])),\n",
       "                (&#x27;model&#x27;, RandomForestClassifier())])</pre><b>In a Jupyter environment, please rerun this cell to show the HTML representation or trust the notebook. <br />On GitHub, the HTML representation is unable to render, please try loading this page with nbviewer.org.</b></div><div class=\"sk-container\" hidden><div class=\"sk-item sk-dashed-wrapped\"><div class=\"sk-label-container\"><div class=\"sk-label sk-toggleable\"><input class=\"sk-toggleable__control sk-hidden--visually\" id=\"sk-estimator-id-1\" type=\"checkbox\" ><label for=\"sk-estimator-id-1\" class=\"sk-toggleable__label sk-toggleable__label-arrow\">Pipeline</label><div class=\"sk-toggleable__content\"><pre>Pipeline(steps=[(&#x27;mapper&#x27;,\n",
       "                 DataFrameMapper(drop_cols=[],\n",
       "                                 features=[([&#x27;UEY&#x27;, &#x27;Major&#x27;, &#x27;Interested&#x27;,\n",
       "                                             &#x27;Courses&#x27;],\n",
       "                                            OrdinalEncoder()),\n",
       "                                           ([&#x27;e-learning process&#x27;],\n",
       "                                            OneHotEncoder())])),\n",
       "                (&#x27;model&#x27;, RandomForestClassifier())])</pre></div></div></div><div class=\"sk-serial\"><div class=\"sk-item\"><div class=\"sk-estimator sk-toggleable\"><input class=\"sk-toggleable__control sk-hidden--visually\" id=\"sk-estimator-id-2\" type=\"checkbox\" ><label for=\"sk-estimator-id-2\" class=\"sk-toggleable__label sk-toggleable__label-arrow\">DataFrameMapper</label><div class=\"sk-toggleable__content\"><pre>DataFrameMapper(drop_cols=[],\n",
       "                features=[([&#x27;UEY&#x27;, &#x27;Major&#x27;, &#x27;Interested&#x27;, &#x27;Courses&#x27;],\n",
       "                           OrdinalEncoder()),\n",
       "                          ([&#x27;e-learning process&#x27;], OneHotEncoder())])</pre></div></div></div><div class=\"sk-item\"><div class=\"sk-estimator sk-toggleable\"><input class=\"sk-toggleable__control sk-hidden--visually\" id=\"sk-estimator-id-3\" type=\"checkbox\" ><label for=\"sk-estimator-id-3\" class=\"sk-toggleable__label sk-toggleable__label-arrow\">RandomForestClassifier</label><div class=\"sk-toggleable__content\"><pre>RandomForestClassifier()</pre></div></div></div></div></div></div></div>"
      ],
      "text/plain": [
       "Pipeline(steps=[('mapper',\n",
       "                 DataFrameMapper(drop_cols=[],\n",
       "                                 features=[(['UEY', 'Major', 'Interested',\n",
       "                                             'Courses'],\n",
       "                                            OrdinalEncoder()),\n",
       "                                           (['e-learning process'],\n",
       "                                            OneHotEncoder())])),\n",
       "                ('model', RandomForestClassifier())])"
      ]
     },
     "execution_count": 11,
     "metadata": {},
     "output_type": "execute_result"
    }
   ],
   "source": [
    "pipeline_obj.fit(X_train, y_train)"
   ]
  },
  {
   "cell_type": "code",
   "execution_count": 12,
   "id": "0fd30ae6",
   "metadata": {
    "scrolled": true
   },
   "outputs": [
    {
     "data": {
      "text/plain": [
       "array([300, 300, 200, 200, 200, 100, 400, 200, 200, 100, 200, 400, 200,\n",
       "       400, 100, 200, 100, 300, 400, 200, 200, 300, 400, 200, 300, 100,\n",
       "       200, 200, 100, 300, 200, 200, 200, 300, 200, 200, 200, 200, 200,\n",
       "       100, 400, 200, 200, 200, 300, 200, 400, 400, 100, 200, 200, 200,\n",
       "       100, 200, 100, 200, 200, 200, 200, 100, 200, 200, 100, 300, 400,\n",
       "       200, 100, 200, 200, 100, 400, 100, 200, 400, 200, 300, 200, 100,\n",
       "       200, 200, 100, 200, 300, 400, 100, 100, 100, 400, 200, 100, 400,\n",
       "       200, 200, 200, 200, 200, 200, 100, 100, 100, 200, 400, 100, 200,\n",
       "       400, 300, 200, 200, 200, 100, 100, 200, 200, 200, 100, 200, 200,\n",
       "       200, 400, 200, 100, 100, 100, 200, 400, 200, 100, 100, 200, 200,\n",
       "       100, 200, 200, 200, 200, 300, 200, 200, 200, 400, 200, 200, 200,\n",
       "       400, 200, 200, 200, 200, 200, 300, 200, 400, 200, 100, 400, 200,\n",
       "       200, 100, 200, 400], dtype=int64)"
      ]
     },
     "execution_count": 12,
     "metadata": {},
     "output_type": "execute_result"
    }
   ],
   "source": [
    "pipeline_obj.predict(X_test)"
   ]
  },
  {
   "cell_type": "code",
   "execution_count": 13,
   "id": "e7ecb507",
   "metadata": {},
   "outputs": [
    {
     "data": {
      "text/plain": [
       "0.925"
      ]
     },
     "execution_count": 13,
     "metadata": {},
     "output_type": "execute_result"
    }
   ],
   "source": [
    "from sklearn.metrics import accuracy_score\n",
    "y_pred = pipeline_obj.predict(X_test)\n",
    "accuracy_score(y_test, y_pred)"
   ]
  },
  {
   "cell_type": "code",
   "execution_count": 14,
   "id": "5559b176",
   "metadata": {},
   "outputs": [],
   "source": [
    "import joblib"
   ]
  },
  {
   "cell_type": "code",
   "execution_count": 15,
   "id": "9db05b7b",
   "metadata": {},
   "outputs": [
    {
     "data": {
      "text/plain": [
       "['./../savedModels/model.joblib']"
      ]
     },
     "execution_count": 15,
     "metadata": {},
     "output_type": "execute_result"
    }
   ],
   "source": [
    "joblib.dump(pipeline_obj,'./../savedModels/model.joblib')"
   ]
  },
  {
   "cell_type": "code",
   "execution_count": 16,
   "id": "96cd4b35",
   "metadata": {},
   "outputs": [],
   "source": [
    "modelReload=joblib.load('./../savedModels/model.joblib')"
   ]
  },
  {
   "cell_type": "code",
   "execution_count": 17,
   "id": "221b5ff9",
   "metadata": {
    "scrolled": true
   },
   "outputs": [
    {
     "data": {
      "text/plain": [
       "array([300, 300, 200, 200, 200, 100, 400, 200, 200, 100, 200, 400, 200,\n",
       "       400, 100, 200, 100, 300, 400, 200, 200, 300, 400, 200, 300, 100,\n",
       "       200, 200, 100, 300, 200, 200, 200, 300, 200, 200, 200, 200, 200,\n",
       "       100, 400, 200, 200, 200, 300, 200, 400, 400, 100, 200, 200, 200,\n",
       "       100, 200, 100, 200, 200, 200, 200, 100, 200, 200, 100, 300, 400,\n",
       "       200, 100, 200, 200, 100, 400, 100, 200, 400, 200, 300, 200, 100,\n",
       "       200, 200, 100, 200, 300, 400, 100, 100, 100, 400, 200, 100, 400,\n",
       "       200, 200, 200, 200, 200, 200, 100, 100, 100, 200, 400, 100, 200,\n",
       "       400, 300, 200, 200, 200, 100, 100, 200, 200, 200, 100, 200, 200,\n",
       "       200, 400, 200, 100, 100, 100, 200, 400, 200, 100, 100, 200, 200,\n",
       "       100, 200, 200, 200, 200, 300, 200, 200, 200, 400, 200, 200, 200,\n",
       "       400, 200, 200, 200, 200, 200, 300, 200, 400, 200, 100, 400, 200,\n",
       "       200, 100, 200, 400], dtype=int64)"
      ]
     },
     "execution_count": 17,
     "metadata": {},
     "output_type": "execute_result"
    }
   ],
   "source": [
    "modelReload.predict(X_test)"
   ]
  },
  {
   "cell_type": "code",
   "execution_count": 18,
   "id": "756e8396",
   "metadata": {},
   "outputs": [],
   "source": [
    "temp={}\n",
    "temp['e-learning process']=1\n",
    "temp['UEY']=2019\n",
    "temp['Major']=2\n",
    "temp['Interested']=18\n",
    "temp['Courses']= 29\n"
   ]
  },
  {
   "cell_type": "code",
   "execution_count": 19,
   "id": "e389eb0e",
   "metadata": {},
   "outputs": [],
   "source": [
    "testDtaa=pd.DataFrame({'X':temp}).transpose()"
   ]
  },
  {
   "cell_type": "code",
   "execution_count": 20,
   "id": "8d25876d",
   "metadata": {},
   "outputs": [
    {
     "data": {
      "text/html": [
       "<div>\n",
       "<style scoped>\n",
       "    .dataframe tbody tr th:only-of-type {\n",
       "        vertical-align: middle;\n",
       "    }\n",
       "\n",
       "    .dataframe tbody tr th {\n",
       "        vertical-align: top;\n",
       "    }\n",
       "\n",
       "    .dataframe thead th {\n",
       "        text-align: right;\n",
       "    }\n",
       "</style>\n",
       "<table border=\"1\" class=\"dataframe\">\n",
       "  <thead>\n",
       "    <tr style=\"text-align: right;\">\n",
       "      <th></th>\n",
       "      <th>Courses</th>\n",
       "      <th>Interested</th>\n",
       "      <th>Major</th>\n",
       "      <th>UEY</th>\n",
       "      <th>e-learning process</th>\n",
       "    </tr>\n",
       "  </thead>\n",
       "  <tbody>\n",
       "    <tr>\n",
       "      <th>X</th>\n",
       "      <td>29</td>\n",
       "      <td>18</td>\n",
       "      <td>2</td>\n",
       "      <td>2019</td>\n",
       "      <td>1</td>\n",
       "    </tr>\n",
       "  </tbody>\n",
       "</table>\n",
       "</div>"
      ],
      "text/plain": [
       "   Courses  Interested  Major   UEY  e-learning process\n",
       "X       29          18      2  2019                   1"
      ]
     },
     "execution_count": 20,
     "metadata": {},
     "output_type": "execute_result"
    }
   ],
   "source": [
    "testDtaa"
   ]
  },
  {
   "cell_type": "code",
   "execution_count": 21,
   "id": "a89b34d7",
   "metadata": {},
   "outputs": [
    {
     "data": {
      "text/plain": [
       "300"
      ]
     },
     "execution_count": 21,
     "metadata": {},
     "output_type": "execute_result"
    }
   ],
   "source": [
    "modelReload.predict(testDtaa)[0]"
   ]
  }
 ],
 "metadata": {
  "kernelspec": {
   "display_name": "khcourseenv",
   "language": "python",
   "name": "python3"
  },
  "language_info": {
   "codemirror_mode": {
    "name": "ipython",
    "version": 3
   },
   "file_extension": ".py",
   "mimetype": "text/x-python",
   "name": "python",
   "nbconvert_exporter": "python",
   "pygments_lexer": "ipython3",
   "version": "3.11.1 (tags/v3.11.1:a7a450f, Dec  6 2022, 19:58:39) [MSC v.1934 64 bit (AMD64)]"
  },
  "vscode": {
   "interpreter": {
    "hash": "307b2d9ac7e48b727fc2c684787110b2d43a7481e3fad88553e610ae4a949dd7"
   }
  }
 },
 "nbformat": 4,
 "nbformat_minor": 5
}
